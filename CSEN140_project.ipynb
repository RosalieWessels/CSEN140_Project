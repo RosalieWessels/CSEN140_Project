{
 "cells": [
  {
   "cell_type": "markdown",
   "id": "8bb5a026-d0b0-4c06-9885-6afe0f932459",
   "metadata": {},
   "source": [
    "### Formula 1 Machine Learning Model\n",
    "\n",
    "** Please be sure to run `pip install fastf1` before running**\n"
   ]
  },
  {
   "cell_type": "code",
   "execution_count": 17,
   "id": "b7d34255-6703-4435-8ab2-3f01ec91d416",
   "metadata": {},
   "outputs": [
    {
     "name": "stdout",
     "output_type": "stream",
     "text": [
      "Pre-Season Testing on 2025-02-28 -> Happened: True\n",
      "Australian Grand Prix on 2025-03-16 -> Happened: True\n",
      "Chinese Grand Prix on 2025-03-23 -> Happened: True\n",
      "Japanese Grand Prix on 2025-04-06 -> Happened: True\n",
      "Bahrain Grand Prix on 2025-04-13 -> Happened: True\n",
      "Saudi Arabian Grand Prix on 2025-04-20 -> Happened: True\n",
      "Miami Grand Prix on 2025-05-04 -> Happened: True\n",
      "Emilia Romagna Grand Prix on 2025-05-18 -> Happened: False\n",
      "Monaco Grand Prix on 2025-05-25 -> Happened: False\n",
      "Spanish Grand Prix on 2025-06-01 -> Happened: False\n",
      "Canadian Grand Prix on 2025-06-15 -> Happened: False\n",
      "Austrian Grand Prix on 2025-06-29 -> Happened: False\n",
      "British Grand Prix on 2025-07-06 -> Happened: False\n",
      "Belgian Grand Prix on 2025-07-27 -> Happened: False\n",
      "Hungarian Grand Prix on 2025-08-03 -> Happened: False\n",
      "Dutch Grand Prix on 2025-08-31 -> Happened: False\n",
      "Italian Grand Prix on 2025-09-07 -> Happened: False\n",
      "Azerbaijan Grand Prix on 2025-09-21 -> Happened: False\n",
      "Singapore Grand Prix on 2025-10-05 -> Happened: False\n",
      "United States Grand Prix on 2025-10-19 -> Happened: False\n",
      "Mexico City Grand Prix on 2025-10-26 -> Happened: False\n",
      "São Paulo Grand Prix on 2025-11-09 -> Happened: False\n",
      "Las Vegas Grand Prix on 2025-11-22 -> Happened: False\n",
      "Qatar Grand Prix on 2025-11-30 -> Happened: False\n",
      "Abu Dhabi Grand Prix on 2025-12-07 -> Happened: False\n"
     ]
    }
   ],
   "source": [
    "import fastf1\n",
    "from fastf1.plotting import setup_mpl\n",
    "import matplotlib.pyplot as plt\n",
    "from datetime import datetime\n",
    "\n",
    "# get today's date\n",
    "today_date = datetime.today().date()\n",
    "\n",
    "fastf1.Cache.enable_cache('cache') \n",
    "fastf1.set_log_level('WARNING')\n",
    "\n",
    "events = fastf1.get_event_schedule(2025, include_testing=True)\n",
    "\n",
    "#check if race has happened yet\n",
    "#TODO: add distinction between whether testing / qualifying / race has happened yet\n",
    "for _, race in events.iterrows():\n",
    "    event_date = race['EventDate'].date()\n",
    "    happened = event_date < today_date\n",
    "    print(f\"{race['EventName']} on {event_date} -> Happened: {happened}\")\n",
    "\n",
    "# session = fastf1.get_session(2024, 'Monaco', 'Q')\n",
    "# session.load()\n",
    "\n",
    "# # Use updated method name as well\n",
    "# ver_laps = session.laps.pick_drivers('VER')  # updated from pick_driver\n",
    "# fastest_ver_lap = ver_laps.pick_fastest()\n",
    "\n",
    "# # Get full telemetry with position and distance\n",
    "# telemetry = fastest_ver_lap.get_telemetry()\n"
   ]
  }
 ],
 "metadata": {
  "kernelspec": {
   "display_name": "140wi25",
   "language": "python",
   "name": "140wi25"
  },
  "language_info": {
   "codemirror_mode": {
    "name": "ipython",
    "version": 3
   },
   "file_extension": ".py",
   "mimetype": "text/x-python",
   "name": "python",
   "nbconvert_exporter": "python",
   "pygments_lexer": "ipython3",
   "version": "3.9.21"
  }
 },
 "nbformat": 4,
 "nbformat_minor": 5
}
